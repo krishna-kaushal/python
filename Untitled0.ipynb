{
  "nbformat": 4,
  "nbformat_minor": 0,
  "metadata": {
    "colab": {
      "name": "Untitled0.ipynb",
      "provenance": [],
      "authorship_tag": "ABX9TyMr/Ok05t6nOiaq18ujiR4k",
      "include_colab_link": true
    },
    "kernelspec": {
      "name": "python3",
      "display_name": "Python 3"
    }
  },
  "cells": [
    {
      "cell_type": "markdown",
      "metadata": {
        "id": "view-in-github",
        "colab_type": "text"
      },
      "source": [
        "<a href=\"https://colab.research.google.com/github/xalgord/python/blob/main/Untitled0.ipynb\" target=\"_parent\"><img src=\"https://colab.research.google.com/assets/colab-badge.svg\" alt=\"Open In Colab\"/></a>"
      ]
    },
    {
      "cell_type": "code",
      "metadata": {
        "id": "Lc9XErIXJLTk",
        "colab": {
          "base_uri": "https://localhost:8080/"
        },
        "outputId": "7447116a-9288-48cc-899c-aed36c31a12a"
      },
      "source": [
        "\r\n",
        "x = 5\r\n",
        "y = 3\r\n",
        "z = 5+3\r\n",
        "a = z-x\r\n",
        "print(x)\r\n",
        "print(y)\r\n",
        "print(z)\r\n",
        "print(a)"
      ],
      "execution_count": null,
      "outputs": [
        {
          "output_type": "stream",
          "text": [
            "5\n",
            "3\n",
            "8\n",
            "3\n"
          ],
          "name": "stdout"
        }
      ]
    },
    {
      "cell_type": "code",
      "metadata": {
        "id": "oLgf-zW7JPtl",
        "colab": {
          "base_uri": "https://localhost:8080/"
        },
        "outputId": "80379c8d-7598-4d32-bd36-2a4ed72ec071"
      },
      "source": [
        "x = 5\r\n",
        "type(x)"
      ],
      "execution_count": 4,
      "outputs": [
        {
          "output_type": "execute_result",
          "data": {
            "text/plain": [
              "int"
            ]
          },
          "metadata": {
            "tags": []
          },
          "execution_count": 4
        }
      ]
    },
    {
      "cell_type": "code",
      "metadata": {
        "colab": {
          "base_uri": "https://localhost:8080/"
        },
        "id": "W6xO7WRDLL2D",
        "outputId": "6f2297a7-d7f8-4a0f-a3f0-973ec71dbf0f"
      },
      "source": [
        "x = 5\r\n",
        "y = 3\r\n",
        "z = 5+3\r\n",
        "a = z/x\r\n",
        "type(a)\r\n",
        "print(x)\r\n",
        "print(y)\r\n",
        "print(z)\r\n",
        "print(a)"
      ],
      "execution_count": 8,
      "outputs": [
        {
          "output_type": "stream",
          "text": [
            "5\n",
            "3\n",
            "8\n",
            "1.6\n"
          ],
          "name": "stdout"
        }
      ]
    },
    {
      "cell_type": "code",
      "metadata": {
        "colab": {
          "base_uri": "https://localhost:8080/"
        },
        "id": "z6B9DW7jNQiZ",
        "outputId": "e0adb89d-b1e3-4349-d523-0d04f476951f"
      },
      "source": [
        "a = 5.3\r\n",
        "type(a)"
      ],
      "execution_count": 9,
      "outputs": [
        {
          "output_type": "execute_result",
          "data": {
            "text/plain": [
              "float"
            ]
          },
          "metadata": {
            "tags": []
          },
          "execution_count": 9
        }
      ]
    },
    {
      "cell_type": "code",
      "metadata": {
        "colab": {
          "base_uri": "https://localhost:8080/"
        },
        "id": "jPiok7b4NaFl",
        "outputId": "5f5c259f-2647-4985-9d58-9e8c72528b11"
      },
      "source": [
        "a = 5\r\n",
        "b = 3\r\n",
        "c = 5/3\r\n",
        "print(c)\r\n",
        "type(c)"
      ],
      "execution_count": 12,
      "outputs": [
        {
          "output_type": "stream",
          "text": [
            "1.6666666666666667\n"
          ],
          "name": "stdout"
        },
        {
          "output_type": "execute_result",
          "data": {
            "text/plain": [
              "float"
            ]
          },
          "metadata": {
            "tags": []
          },
          "execution_count": 12
        }
      ]
    },
    {
      "cell_type": "code",
      "metadata": {
        "colab": {
          "base_uri": "https://localhost:8080/"
        },
        "id": "bYx7ltpYNx62",
        "outputId": "0c34099a-bd83-4236-b16b-f01a593141cd"
      },
      "source": [
        "pip install requests"
      ],
      "execution_count": 11,
      "outputs": [
        {
          "output_type": "stream",
          "text": [
            "Requirement already satisfied: requests in /usr/local/lib/python3.7/dist-packages (2.23.0)\n",
            "Requirement already satisfied: certifi>=2017.4.17 in /usr/local/lib/python3.7/dist-packages (from requests) (2020.12.5)\n",
            "Requirement already satisfied: chardet<4,>=3.0.2 in /usr/local/lib/python3.7/dist-packages (from requests) (3.0.4)\n",
            "Requirement already satisfied: urllib3!=1.25.0,!=1.25.1,<1.26,>=1.21.1 in /usr/local/lib/python3.7/dist-packages (from requests) (1.24.3)\n",
            "Requirement already satisfied: idna<3,>=2.5 in /usr/local/lib/python3.7/dist-packages (from requests) (2.10)\n"
          ],
          "name": "stdout"
        }
      ]
    },
    {
      "cell_type": "code",
      "metadata": {
        "colab": {
          "base_uri": "https://localhost:8080/"
        },
        "id": "jng2HbvtN9cJ",
        "outputId": "16fe1dd9-44b3-4f05-b750-e8f381f13c1b"
      },
      "source": [
        "x = 5 + 3 * 7\r\n",
        "print(x)"
      ],
      "execution_count": 13,
      "outputs": [
        {
          "output_type": "stream",
          "text": [
            "26\n"
          ],
          "name": "stdout"
        }
      ]
    },
    {
      "cell_type": "code",
      "metadata": {
        "colab": {
          "base_uri": "https://localhost:8080/"
        },
        "id": "AQVdnuX3VTdH",
        "outputId": "9bd143ea-c35d-4a7b-e94c-d0b22b6a417b"
      },
      "source": [
        "x  = (5 + 3) * 7\r\n",
        "print(x)"
      ],
      "execution_count": 15,
      "outputs": [
        {
          "output_type": "stream",
          "text": [
            "56\n"
          ],
          "name": "stdout"
        }
      ]
    },
    {
      "cell_type": "code",
      "metadata": {
        "colab": {
          "base_uri": "https://localhost:8080/"
        },
        "id": "xkzMpLE8VYLp",
        "outputId": "7a408f28-3532-4ce6-d7f7-8d70d4f73149"
      },
      "source": [
        "x = 5 + 3 * 6\r\n",
        "print(x)"
      ],
      "execution_count": 1,
      "outputs": [
        {
          "output_type": "stream",
          "text": [
            "23\n"
          ],
          "name": "stdout"
        }
      ]
    },
    {
      "cell_type": "code",
      "metadata": {
        "colab": {
          "base_uri": "https://localhost:8080/"
        },
        "id": "IcL0kT0xpML-",
        "outputId": "d4697b0c-5dc2-4dc1-836d-0465fa22bfeb"
      },
      "source": [
        "x = (5 + 3) * 6\r\n",
        "print(x)"
      ],
      "execution_count": 2,
      "outputs": [
        {
          "output_type": "stream",
          "text": [
            "48\n"
          ],
          "name": "stdout"
        }
      ]
    },
    {
      "cell_type": "code",
      "metadata": {
        "colab": {
          "base_uri": "https://localhost:8080/"
        },
        "id": "sqDpvxodp_Zx",
        "outputId": "381c53c8-23c9-44b5-a58e-051a7c010e08"
      },
      "source": [
        "x = \"xalgord\"\r\n",
        "x = 70\r\n",
        "print(x)\r\n",
        "x = 75.5\r\n",
        "print(x)"
      ],
      "execution_count": 3,
      "outputs": [
        {
          "output_type": "stream",
          "text": [
            "70\n",
            "75.5\n"
          ],
          "name": "stdout"
        }
      ]
    },
    {
      "cell_type": "code",
      "metadata": {
        "id": "yGABHj3NngAA"
      },
      "source": [
        ""
      ],
      "execution_count": null,
      "outputs": []
    }
  ]
}